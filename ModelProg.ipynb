{
 "cells": [
  {
   "cell_type": "markdown",
   "id": "723a6bad",
   "metadata": {},
   "source": [
    "<h3>Data Cleaning</h3> "
   ]
  },
  {
   "cell_type": "code",
   "execution_count": 1,
   "id": "fb655be8",
   "metadata": {},
   "outputs": [],
   "source": [
    "import pandas as pd"
   ]
  },
  {
   "cell_type": "code",
   "execution_count": 2,
   "id": "d0ce93ab",
   "metadata": {},
   "outputs": [
    {
     "data": {
      "text/html": [
       "<div>\n",
       "<style scoped>\n",
       "    .dataframe tbody tr th:only-of-type {\n",
       "        vertical-align: middle;\n",
       "    }\n",
       "\n",
       "    .dataframe tbody tr th {\n",
       "        vertical-align: top;\n",
       "    }\n",
       "\n",
       "    .dataframe thead th {\n",
       "        text-align: right;\n",
       "    }\n",
       "</style>\n",
       "<table border=\"1\" class=\"dataframe\">\n",
       "  <thead>\n",
       "    <tr style=\"text-align: right;\">\n",
       "      <th></th>\n",
       "      <th>user</th>\n",
       "      <th>first_open</th>\n",
       "      <th>dayofweek</th>\n",
       "      <th>hour</th>\n",
       "      <th>age</th>\n",
       "      <th>screen_list</th>\n",
       "      <th>numscreens</th>\n",
       "      <th>minigame</th>\n",
       "      <th>used_premium_feature</th>\n",
       "      <th>enrolled</th>\n",
       "      <th>enrolled_date</th>\n",
       "      <th>liked</th>\n",
       "    </tr>\n",
       "  </thead>\n",
       "  <tbody>\n",
       "    <tr>\n",
       "      <th>0</th>\n",
       "      <td>235136</td>\n",
       "      <td>2012-12-27 02:14:51.273</td>\n",
       "      <td>3</td>\n",
       "      <td>02:00:00</td>\n",
       "      <td>23</td>\n",
       "      <td>idscreen,joinscreen,Cycle,product_review,ScanP...</td>\n",
       "      <td>15</td>\n",
       "      <td>0</td>\n",
       "      <td>0</td>\n",
       "      <td>0</td>\n",
       "      <td>NaN</td>\n",
       "      <td>0</td>\n",
       "    </tr>\n",
       "    <tr>\n",
       "      <th>1</th>\n",
       "      <td>333588</td>\n",
       "      <td>2012-12-02 01:16:00.905</td>\n",
       "      <td>6</td>\n",
       "      <td>01:00:00</td>\n",
       "      <td>24</td>\n",
       "      <td>joinscreen,product_review,product_review2,Scan...</td>\n",
       "      <td>13</td>\n",
       "      <td>0</td>\n",
       "      <td>0</td>\n",
       "      <td>0</td>\n",
       "      <td>NaN</td>\n",
       "      <td>0</td>\n",
       "    </tr>\n",
       "    <tr>\n",
       "      <th>2</th>\n",
       "      <td>254414</td>\n",
       "      <td>2013-03-19 19:19:09.157</td>\n",
       "      <td>1</td>\n",
       "      <td>19:00:00</td>\n",
       "      <td>23</td>\n",
       "      <td>Splash,Cycle,Loan</td>\n",
       "      <td>3</td>\n",
       "      <td>0</td>\n",
       "      <td>1</td>\n",
       "      <td>0</td>\n",
       "      <td>NaN</td>\n",
       "      <td>1</td>\n",
       "    </tr>\n",
       "    <tr>\n",
       "      <th>3</th>\n",
       "      <td>234192</td>\n",
       "      <td>2013-07-05 16:08:46.354</td>\n",
       "      <td>4</td>\n",
       "      <td>16:00:00</td>\n",
       "      <td>28</td>\n",
       "      <td>product_review,Home,product_review,Loan3,Finan...</td>\n",
       "      <td>40</td>\n",
       "      <td>0</td>\n",
       "      <td>0</td>\n",
       "      <td>1</td>\n",
       "      <td>2013-07-05 16:11:49.513</td>\n",
       "      <td>0</td>\n",
       "    </tr>\n",
       "    <tr>\n",
       "      <th>4</th>\n",
       "      <td>51549</td>\n",
       "      <td>2013-02-26 18:50:48.661</td>\n",
       "      <td>1</td>\n",
       "      <td>18:00:00</td>\n",
       "      <td>31</td>\n",
       "      <td>idscreen,joinscreen,Cycle,Credit3Container,Sca...</td>\n",
       "      <td>32</td>\n",
       "      <td>0</td>\n",
       "      <td>0</td>\n",
       "      <td>1</td>\n",
       "      <td>2013-02-26 18:56:37.841</td>\n",
       "      <td>1</td>\n",
       "    </tr>\n",
       "  </tbody>\n",
       "</table>\n",
       "</div>"
      ],
      "text/plain": [
       "     user               first_open  dayofweek       hour  age   \n",
       "0  235136  2012-12-27 02:14:51.273          3   02:00:00   23  \\\n",
       "1  333588  2012-12-02 01:16:00.905          6   01:00:00   24   \n",
       "2  254414  2013-03-19 19:19:09.157          1   19:00:00   23   \n",
       "3  234192  2013-07-05 16:08:46.354          4   16:00:00   28   \n",
       "4   51549  2013-02-26 18:50:48.661          1   18:00:00   31   \n",
       "\n",
       "                                         screen_list  numscreens  minigame   \n",
       "0  idscreen,joinscreen,Cycle,product_review,ScanP...          15         0  \\\n",
       "1  joinscreen,product_review,product_review2,Scan...          13         0   \n",
       "2                                  Splash,Cycle,Loan           3         0   \n",
       "3  product_review,Home,product_review,Loan3,Finan...          40         0   \n",
       "4  idscreen,joinscreen,Cycle,Credit3Container,Sca...          32         0   \n",
       "\n",
       "   used_premium_feature  enrolled            enrolled_date  liked  \n",
       "0                     0         0                      NaN      0  \n",
       "1                     0         0                      NaN      0  \n",
       "2                     1         0                      NaN      1  \n",
       "3                     0         1  2013-07-05 16:11:49.513      0  \n",
       "4                     0         1  2013-02-26 18:56:37.841      1  "
      ]
     },
     "execution_count": 2,
     "metadata": {},
     "output_type": "execute_result"
    }
   ],
   "source": [
    "rawData = pd.read_csv('FineTech_Data.csv')\n",
    "rawData.head()"
   ]
  },
  {
   "cell_type": "code",
   "execution_count": 3,
   "id": "227229f6",
   "metadata": {},
   "outputs": [
    {
     "data": {
      "text/plain": [
       "user                        0\n",
       "first_open                  0\n",
       "dayofweek                   0\n",
       "hour                        0\n",
       "age                         0\n",
       "screen_list                 0\n",
       "numscreens                  0\n",
       "minigame                    0\n",
       "used_premium_feature        0\n",
       "enrolled                    0\n",
       "enrolled_date           18926\n",
       "liked                       0\n",
       "dtype: int64"
      ]
     },
     "execution_count": 3,
     "metadata": {},
     "output_type": "execute_result"
    }
   ],
   "source": [
    "rawData.isna().sum()"
   ]
  },
  {
   "cell_type": "code",
   "execution_count": 4,
   "id": "ba0f0f7e",
   "metadata": {},
   "outputs": [
    {
     "data": {
      "text/html": [
       "<div>\n",
       "<style scoped>\n",
       "    .dataframe tbody tr th:only-of-type {\n",
       "        vertical-align: middle;\n",
       "    }\n",
       "\n",
       "    .dataframe tbody tr th {\n",
       "        vertical-align: top;\n",
       "    }\n",
       "\n",
       "    .dataframe thead th {\n",
       "        text-align: right;\n",
       "    }\n",
       "</style>\n",
       "<table border=\"1\" class=\"dataframe\">\n",
       "  <thead>\n",
       "    <tr style=\"text-align: right;\">\n",
       "      <th></th>\n",
       "      <th>numscreens</th>\n",
       "      <th>minigame</th>\n",
       "      <th>used_premium_feature</th>\n",
       "      <th>enrolled</th>\n",
       "      <th>liked</th>\n",
       "    </tr>\n",
       "  </thead>\n",
       "  <tbody>\n",
       "    <tr>\n",
       "      <th>0</th>\n",
       "      <td>15</td>\n",
       "      <td>0</td>\n",
       "      <td>0</td>\n",
       "      <td>0</td>\n",
       "      <td>0</td>\n",
       "    </tr>\n",
       "    <tr>\n",
       "      <th>1</th>\n",
       "      <td>13</td>\n",
       "      <td>0</td>\n",
       "      <td>0</td>\n",
       "      <td>0</td>\n",
       "      <td>0</td>\n",
       "    </tr>\n",
       "    <tr>\n",
       "      <th>2</th>\n",
       "      <td>3</td>\n",
       "      <td>0</td>\n",
       "      <td>1</td>\n",
       "      <td>0</td>\n",
       "      <td>1</td>\n",
       "    </tr>\n",
       "    <tr>\n",
       "      <th>3</th>\n",
       "      <td>40</td>\n",
       "      <td>0</td>\n",
       "      <td>0</td>\n",
       "      <td>1</td>\n",
       "      <td>0</td>\n",
       "    </tr>\n",
       "    <tr>\n",
       "      <th>4</th>\n",
       "      <td>32</td>\n",
       "      <td>0</td>\n",
       "      <td>0</td>\n",
       "      <td>1</td>\n",
       "      <td>1</td>\n",
       "    </tr>\n",
       "  </tbody>\n",
       "</table>\n",
       "</div>"
      ],
      "text/plain": [
       "   numscreens  minigame  used_premium_feature  enrolled  liked\n",
       "0          15         0                     0         0      0\n",
       "1          13         0                     0         0      0\n",
       "2           3         0                     1         0      1\n",
       "3          40         0                     0         1      0\n",
       "4          32         0                     0         1      1"
      ]
     },
     "execution_count": 4,
     "metadata": {},
     "output_type": "execute_result"
    }
   ],
   "source": [
    "# remove unneccesary data\n",
    "cleanData = rawData.drop(['user','first_open','dayofweek','hour','age','screen_list','enrolled_date'],axis=1)\n",
    "cleanData.head()"
   ]
  },
  {
   "cell_type": "markdown",
   "id": "5bd1233e",
   "metadata": {},
   "source": [
    "<h3>Train Model</h3>"
   ]
  },
  {
   "cell_type": "code",
   "execution_count": 5,
   "id": "8d4a9bff",
   "metadata": {},
   "outputs": [],
   "source": [
    "import sklearn.model_selection as split\n",
    "from sklearn.preprocessing import StandardScaler as scaler"
   ]
  },
  {
   "cell_type": "code",
   "execution_count": 6,
   "id": "17b39f53",
   "metadata": {},
   "outputs": [],
   "source": [
    "data = split.train_test_split(cleanData.iloc[:,[0,1,2,4]],cleanData.iloc[:,3],test_size=0.20)\n",
    "trainInput = data[0]\n",
    "testInput = data[1]\n",
    "trainOutput = data[2]\n",
    "testOutput = data[3]"
   ]
  },
  {
   "cell_type": "code",
   "execution_count": 7,
   "id": "460c9969",
   "metadata": {},
   "outputs": [],
   "source": [
    "scalerModel = scaler()\n",
    "trainInputScaled = scalerModel.fit_transform(trainInput)\n",
    "testInputScaled = scalerModel.transform(testInput)"
   ]
  },
  {
   "cell_type": "markdown",
   "id": "03272392",
   "metadata": {},
   "source": [
    "<h3>Decision Tree</h3>"
   ]
  },
  {
   "cell_type": "code",
   "execution_count": 12,
   "id": "47d14023",
   "metadata": {},
   "outputs": [
    {
     "data": {
      "text/plain": [
       "0.6611"
      ]
     },
     "execution_count": 12,
     "metadata": {},
     "output_type": "execute_result"
    }
   ],
   "source": [
    "from sklearn.tree import DecisionTreeClassifier as dcModel\n",
    "dcModel = dcModel(criterion='entropy', random_state=0)\n",
    "dcModel.fit(trainInputScaled,trainOutput)\n",
    "dcModel.score(testInputScaled,testOutput)"
   ]
  },
  {
   "cell_type": "markdown",
   "id": "287ab2f8",
   "metadata": {},
   "source": [
    "<h3>Navie Bayes</h3>"
   ]
  },
  {
   "cell_type": "code",
   "execution_count": 13,
   "id": "45b2e292",
   "metadata": {},
   "outputs": [
    {
     "data": {
      "text/plain": [
       "0.6456"
      ]
     },
     "execution_count": 13,
     "metadata": {},
     "output_type": "execute_result"
    }
   ],
   "source": [
    "from sklearn.naive_bayes import GaussianNB \n",
    "nbModel = GaussianNB()\n",
    "nbModel.fit(trainInput,trainOutput)\n",
    "nbModel.score(testInput,testOutput)"
   ]
  },
  {
   "cell_type": "markdown",
   "id": "6b2c3d4b",
   "metadata": {},
   "source": [
    "<h3>SVM</h3>"
   ]
  },
  {
   "cell_type": "code",
   "execution_count": 14,
   "id": "adbf7925",
   "metadata": {},
   "outputs": [
    {
     "data": {
      "text/plain": [
       "0.6164"
      ]
     },
     "execution_count": 14,
     "metadata": {},
     "output_type": "execute_result"
    }
   ],
   "source": [
    "from sklearn.svm import SVC \n",
    "svmModel = SVC(kernel='linear',random_state=0)\n",
    "svmModel.fit(trainInput,trainOutput)\n",
    "svmModel.score(testInput,testOutput)"
   ]
  },
  {
   "cell_type": "markdown",
   "id": "e6278302",
   "metadata": {},
   "source": [
    "<h3>KNN</h3>"
   ]
  },
  {
   "cell_type": "code",
   "execution_count": 15,
   "id": "43f93e68",
   "metadata": {},
   "outputs": [
    {
     "data": {
      "text/plain": [
       "0.6591"
      ]
     },
     "execution_count": 15,
     "metadata": {},
     "output_type": "execute_result"
    }
   ],
   "source": [
    "from sklearn.neighbors import KNeighborsClassifier\n",
    "knnModel =  KNeighborsClassifier(n_neighbors=15)\n",
    "knnModel.fit(trainInputScaled,trainOutput)\n",
    "knnModel.score(testInputScaled,testOutput)"
   ]
  },
  {
   "cell_type": "markdown",
   "id": "1a3282ae",
   "metadata": {},
   "source": [
    "<h3>Here Decision Tree and KNN is more accurate than others so we will choice one of them.</h3>"
   ]
  },
  {
   "cell_type": "code",
   "execution_count": 25,
   "id": "db870d7b",
   "metadata": {},
   "outputs": [
    {
     "name": "stdout",
     "output_type": "stream",
     "text": [
      "Number of Screens :3\n",
      "Is Mini Game played (0/1) :0\n",
      "Used Premium Feature (0/1): 1\n",
      "Like App (0/1): 1\n",
      "\n",
      "User will subscribe premium feature\n"
     ]
    }
   ],
   "source": [
    "numscreens = int(input(\"Number of Screens :\")) \n",
    "minigame = int(input(\"Is Mini Game played (0/1) :\"))\n",
    "used_premium_feature = int(input(\"Used Premium Feature (0/1): \"))\n",
    "liked = int(input(\"Like App (0/1): \"))\n",
    "\n",
    "enrolled = dcModel.predict([[numscreens,minigame,used_premium_feature,liked]])\n",
    "\n",
    "if enrolled == 1:\n",
    "    print(\"\\nUser will subscribe premium feature\")\n",
    "else:\n",
    "    print(\"\\nUser will not subscribe premium feature\")"
   ]
  }
 ],
 "metadata": {
  "kernelspec": {
   "display_name": "Python 3 (ipykernel)",
   "language": "python",
   "name": "python3"
  },
  "language_info": {
   "codemirror_mode": {
    "name": "ipython",
    "version": 3
   },
   "file_extension": ".py",
   "mimetype": "text/x-python",
   "name": "python",
   "nbconvert_exporter": "python",
   "pygments_lexer": "ipython3",
   "version": "3.11.2"
  }
 },
 "nbformat": 4,
 "nbformat_minor": 5
}
